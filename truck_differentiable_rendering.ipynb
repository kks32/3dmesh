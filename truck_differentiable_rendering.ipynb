{
  "cells": [
    {
      "cell_type": "markdown",
      "metadata": {
        "id": "44lB2sH-rQdW"
      },
      "source": [
        "# Camera position optimization using differentiable rendering\n",
        "\n",
        "In this tutorial we will learn the [x, y, z] position of a camera given a reference image using differentiable rendering. \n",
        "\n",
        "We will first initialize a renderer with a starting position for the camera. We will then use this to generate an image, compute a loss with the reference image, and finally backpropagate through the entire pipeline to update the position of the camera. \n",
        "\n",
        "This tutorial shows how to:\n",
        "- load a mesh from an `.obj` file\n",
        "- initialize a `Camera`, `Shader` and `Renderer`,\n",
        "- render a mesh\n",
        "- set up an optimization loop with a loss function and optimizer\n"
      ]
    },
    {
      "cell_type": "markdown",
      "metadata": {
        "id": "AZGmIlmWrQdX"
      },
      "source": [
        "##  0. Install and import modules"
      ]
    },
    {
      "cell_type": "markdown",
      "metadata": {
        "id": "qkX7DiM6rmeM"
      },
      "source": [
        "Ensure `torch` and `torchvision` are installed. If `pytorch3d` is not installed, install it using the following cell:"
      ]
    },
    {
      "cell_type": "code",
      "execution_count": null,
      "metadata": {
        "colab": {
          "base_uri": "https://localhost:8080/"
        },
        "id": "sEVdNGFwripM",
        "outputId": "dfbc8ccd-3fec-4e23-fd2b-403173289f8e"
      },
      "outputs": [
        {
          "output_type": "stream",
          "name": "stdout",
          "text": [
            "Looking in indexes: https://pypi.org/simple, https://us-python.pkg.dev/colab-wheels/public/simple/\n",
            "Collecting fvcore\n",
            "  Downloading fvcore-0.1.5.post20221221.tar.gz (50 kB)\n",
            "\u001b[2K     \u001b[90m━━━━━━━━━━━━━━━━━━━━━━━━━━━━━━━━━━━━━━━━\u001b[0m \u001b[32m50.2/50.2 KB\u001b[0m \u001b[31m3.6 MB/s\u001b[0m eta \u001b[36m0:00:00\u001b[0m\n",
            "\u001b[?25h  Preparing metadata (setup.py) ... \u001b[?25l\u001b[?25hdone\n",
            "Collecting iopath\n",
            "  Downloading iopath-0.1.10.tar.gz (42 kB)\n",
            "\u001b[2K     \u001b[90m━━━━━━━━━━━━━━━━━━━━━━━━━━━━━━━━━━━━━━━━\u001b[0m \u001b[32m42.2/42.2 KB\u001b[0m \u001b[31m5.5 MB/s\u001b[0m eta \u001b[36m0:00:00\u001b[0m\n",
            "\u001b[?25h  Preparing metadata (setup.py) ... \u001b[?25l\u001b[?25hdone\n",
            "Requirement already satisfied: numpy in /usr/local/lib/python3.8/dist-packages (from fvcore) (1.21.6)\n",
            "Collecting yacs>=0.1.6\n",
            "  Downloading yacs-0.1.8-py3-none-any.whl (14 kB)\n",
            "Requirement already satisfied: pyyaml>=5.1 in /usr/local/lib/python3.8/dist-packages (from fvcore) (6.0)\n",
            "Requirement already satisfied: tqdm in /usr/local/lib/python3.8/dist-packages (from fvcore) (4.64.1)\n",
            "Requirement already satisfied: termcolor>=1.1 in /usr/local/lib/python3.8/dist-packages (from fvcore) (2.2.0)\n",
            "Requirement already satisfied: Pillow in /usr/local/lib/python3.8/dist-packages (from fvcore) (7.1.2)\n",
            "Requirement already satisfied: tabulate in /usr/local/lib/python3.8/dist-packages (from fvcore) (0.8.10)\n",
            "Requirement already satisfied: typing_extensions in /usr/local/lib/python3.8/dist-packages (from iopath) (4.4.0)\n",
            "Collecting portalocker\n",
            "  Downloading portalocker-2.7.0-py2.py3-none-any.whl (15 kB)\n",
            "Building wheels for collected packages: fvcore, iopath\n",
            "  Building wheel for fvcore (setup.py) ... \u001b[?25l\u001b[?25hdone\n",
            "  Created wheel for fvcore: filename=fvcore-0.1.5.post20221221-py3-none-any.whl size=61431 sha256=fc302d6bb4f95b4ab8a294f8198a8cada7660cb7ac65e023ad21c48e9da403c0\n",
            "  Stored in directory: /root/.cache/pip/wheels/b8/79/07/c0e9367f5b5ea325e246bd73651e8af175fabbef943043b1cc\n",
            "  Building wheel for iopath (setup.py) ... \u001b[?25l\u001b[?25hdone\n",
            "  Created wheel for iopath: filename=iopath-0.1.10-py3-none-any.whl size=31547 sha256=b3246d0c920c040ba63b223fb14520b63ec2b226222899067e4ea9d311e3abf8\n",
            "  Stored in directory: /root/.cache/pip/wheels/89/3e/24/0f349c0b2eeb6965903035f3b00dbb5c9bea437b4a2f18d82c\n",
            "Successfully built fvcore iopath\n",
            "Installing collected packages: yacs, portalocker, iopath, fvcore\n",
            "Successfully installed fvcore-0.1.5.post20221221 iopath-0.1.10 portalocker-2.7.0 yacs-0.1.8\n",
            "Looking in links: https://dl.fbaipublicfiles.com/pytorch3d/packaging/wheels/py38_cu116_pyt1131/download.html\n",
            "Collecting pytorch3d\n",
            "  Downloading https://dl.fbaipublicfiles.com/pytorch3d/packaging/wheels/py38_cu116_pyt1131/pytorch3d-0.7.2-cp38-cp38-linux_x86_64.whl (72.8 MB)\n",
            "\u001b[2K     \u001b[90m━━━━━━━━━━━━━━━━━━━━━━━━━━━━━━━━━━━━━━━━\u001b[0m \u001b[32m72.8/72.8 MB\u001b[0m \u001b[31m11.6 MB/s\u001b[0m eta \u001b[36m0:00:00\u001b[0m\n",
            "\u001b[?25hRequirement already satisfied: iopath in /usr/local/lib/python3.8/dist-packages (from pytorch3d) (0.1.10)\n",
            "Requirement already satisfied: fvcore in /usr/local/lib/python3.8/dist-packages (from pytorch3d) (0.1.5.post20221221)\n",
            "Requirement already satisfied: yacs>=0.1.6 in /usr/local/lib/python3.8/dist-packages (from fvcore->pytorch3d) (0.1.8)\n",
            "Requirement already satisfied: termcolor>=1.1 in /usr/local/lib/python3.8/dist-packages (from fvcore->pytorch3d) (2.2.0)\n",
            "Requirement already satisfied: pyyaml>=5.1 in /usr/local/lib/python3.8/dist-packages (from fvcore->pytorch3d) (6.0)\n",
            "Requirement already satisfied: Pillow in /usr/local/lib/python3.8/dist-packages (from fvcore->pytorch3d) (7.1.2)\n",
            "Requirement already satisfied: tqdm in /usr/local/lib/python3.8/dist-packages (from fvcore->pytorch3d) (4.64.1)\n",
            "Requirement already satisfied: numpy in /usr/local/lib/python3.8/dist-packages (from fvcore->pytorch3d) (1.21.6)\n",
            "Requirement already satisfied: tabulate in /usr/local/lib/python3.8/dist-packages (from fvcore->pytorch3d) (0.8.10)\n",
            "Requirement already satisfied: portalocker in /usr/local/lib/python3.8/dist-packages (from iopath->pytorch3d) (2.7.0)\n",
            "Requirement already satisfied: typing-extensions in /usr/local/lib/python3.8/dist-packages (from iopath->pytorch3d) (4.4.0)\n",
            "Installing collected packages: pytorch3d\n",
            "Successfully installed pytorch3d-0.7.2\n"
          ]
        }
      ],
      "source": [
        "import os\n",
        "import sys\n",
        "import torch\n",
        "need_pytorch3d=False\n",
        "try:\n",
        "    import pytorch3d\n",
        "except ModuleNotFoundError:\n",
        "    need_pytorch3d=True\n",
        "if need_pytorch3d:\n",
        "    if torch.__version__.startswith(\"1.13.\") and sys.platform.startswith(\"linux\"):\n",
        "        # We try to install PyTorch3D via a released wheel.\n",
        "        pyt_version_str=torch.__version__.split(\"+\")[0].replace(\".\", \"\")\n",
        "        version_str=\"\".join([\n",
        "            f\"py3{sys.version_info.minor}_cu\",\n",
        "            torch.version.cuda.replace(\".\",\"\"),\n",
        "            f\"_pyt{pyt_version_str}\"\n",
        "        ])\n",
        "        !pip install fvcore iopath\n",
        "        !pip install --no-index --no-cache-dir pytorch3d -f https://dl.fbaipublicfiles.com/pytorch3d/packaging/wheels/{version_str}/download.html\n",
        "    else:\n",
        "        # We try to install PyTorch3D from source.\n",
        "        !curl -LO https://github.com/NVIDIA/cub/archive/1.10.0.tar.gz\n",
        "        !tar xzf 1.10.0.tar.gz\n",
        "        os.environ[\"CUB_HOME\"] = os.getcwd() + \"/cub-1.10.0\"\n",
        "        !pip install 'git+https://github.com/facebookresearch/pytorch3d.git@stable'"
      ]
    },
    {
      "cell_type": "code",
      "execution_count": null,
      "metadata": {
        "id": "w9mH5iVprQdZ"
      },
      "outputs": [],
      "source": [
        "import os\n",
        "import torch\n",
        "import numpy as np\n",
        "from tqdm.notebook import tqdm\n",
        "import imageio\n",
        "import torch.nn as nn\n",
        "import torch.nn.functional as F\n",
        "import matplotlib.pyplot as plt\n",
        "from skimage import img_as_ubyte\n",
        "\n",
        "# io utils\n",
        "from pytorch3d.io import load_obj\n",
        "\n",
        "# datastructures\n",
        "from pytorch3d.structures import Meshes\n",
        "\n",
        "# 3D transformations functions\n",
        "from pytorch3d.transforms import Rotate, Translate\n",
        "\n",
        "# rendering components\n",
        "from pytorch3d.renderer import (\n",
        "    FoVPerspectiveCameras, look_at_view_transform, look_at_rotation, \n",
        "    RasterizationSettings, MeshRenderer, MeshRasterizer, BlendParams,\n",
        "    SoftSilhouetteShader, HardPhongShader, PointLights, TexturesVertex,\n",
        ")"
      ]
    },
    {
      "cell_type": "markdown",
      "metadata": {
        "id": "cpUf2UvirQdc"
      },
      "source": [
        "## 1. Load the Obj\n",
        "\n",
        "We will load an obj file and create a **Meshes** object. **Meshes** is a unique datastructure provided in PyTorch3D for working with **batches of meshes of different sizes**. It has several useful class methods which are used in the rendering pipeline. "
      ]
    },
    {
      "cell_type": "markdown",
      "metadata": {
        "id": "8d-oREfkrt_Z"
      },
      "source": [
        "If you are running this notebook locally after cloning the PyTorch3D repository, the mesh will already be available. **If using Google Colab, fetch the mesh and save it at the path `data/`**:"
      ]
    },
    {
      "cell_type": "code",
      "source": [
        "!wget -P data https://web.mit.edu/djwendel/www/weblogo/shapes/vehicles/truck/truck.obj"
      ],
      "metadata": {
        "colab": {
          "base_uri": "https://localhost:8080/"
        },
        "id": "OjvJo_Glr6Oy",
        "outputId": "516d3f02-42f3-48df-b3ff-16e26337b8cf"
      },
      "execution_count": null,
      "outputs": [
        {
          "output_type": "stream",
          "name": "stdout",
          "text": [
            "--2023-01-28 16:27:11--  https://web.mit.edu/djwendel/www/weblogo/shapes/vehicles/truck/truck.obj\n",
            "Resolving web.mit.edu (web.mit.edu)... 23.199.138.122, 2600:1417:3f:bb3::255e, 2600:1417:3f:b97::255e\n",
            "Connecting to web.mit.edu (web.mit.edu)|23.199.138.122|:443... connected.\n",
            "HTTP request sent, awaiting response... 200 OK\n",
            "Length: 46241 (45K) [text/plain]\n",
            "Saving to: ‘data/truck.obj’\n",
            "\n",
            "truck.obj           100%[===================>]  45.16K  --.-KB/s    in 0.01s   \n",
            "\n",
            "2023-01-28 16:27:11 (3.54 MB/s) - ‘data/truck.obj’ saved [46241/46241]\n",
            "\n"
          ]
        }
      ]
    },
    {
      "cell_type": "code",
      "source": [
        "!wget -P data https://raw.githubusercontent.com/kks32/3dmesh/main/car.obj"
      ],
      "metadata": {
        "colab": {
          "base_uri": "https://localhost:8080/"
        },
        "id": "8gQ2RTZaGpMu",
        "outputId": "fc1b9634-a5af-42e1-dd7a-1d9b9c674117"
      },
      "execution_count": null,
      "outputs": [
        {
          "output_type": "stream",
          "name": "stdout",
          "text": [
            "--2023-01-28 16:27:13--  https://raw.githubusercontent.com/kks32/3dmesh/main/car.obj\n",
            "Resolving raw.githubusercontent.com (raw.githubusercontent.com)... 185.199.111.133, 185.199.108.133, 185.199.110.133, ...\n",
            "Connecting to raw.githubusercontent.com (raw.githubusercontent.com)|185.199.111.133|:443... connected.\n",
            "HTTP request sent, awaiting response... 200 OK\n",
            "Length: 1562438 (1.5M) [text/plain]\n",
            "Saving to: ‘data/car.obj’\n",
            "\n",
            "\rcar.obj               0%[                    ]       0  --.-KB/s               \rcar.obj             100%[===================>]   1.49M  --.-KB/s    in 0.008s  \n",
            "\n",
            "2023-01-28 16:27:13 (189 MB/s) - ‘data/car.obj’ saved [1562438/1562438]\n",
            "\n"
          ]
        }
      ]
    },
    {
      "cell_type": "code",
      "execution_count": null,
      "metadata": {
        "colab": {
          "base_uri": "https://localhost:8080/"
        },
        "id": "VWiPKnEIrQdd",
        "outputId": "14a5960f-89e7-4f2c-8b08-a10ecf717944"
      },
      "outputs": [
        {
          "output_type": "stream",
          "name": "stderr",
          "text": [
            "/usr/local/lib/python3.8/dist-packages/pytorch3d/io/obj_io.py:546: UserWarning: Mtl file does not exist: ./data/truck.mtl\n",
            "  warnings.warn(f\"Mtl file does not exist: {f}\")\n"
          ]
        }
      ],
      "source": [
        "# Set the cuda device \n",
        "if torch.cuda.is_available():\n",
        "    device = torch.device(\"cuda:0\")\n",
        "    torch.cuda.set_device(device)\n",
        "else:\n",
        "    device = torch.device(\"cpu\")\n",
        "\n",
        "# Load the obj and ignore the textures and materials.\n",
        "verts, faces_idx, _ = load_obj(\"./data/truck.obj\")\n",
        "faces = faces_idx.verts_idx\n",
        "\n",
        "# Initialize each vertex to be white in color.\n",
        "verts_rgb = torch.ones_like(verts)[None]  # (1, V, 3)\n",
        "textures = TexturesVertex(verts_features=verts_rgb.to(device))\n",
        "\n",
        "# Create a Meshes object for the teapot. Here we have only one mesh in the batch.\n",
        "mesh = Meshes(\n",
        "    verts=[verts.to(device)],   \n",
        "    faces=[faces.to(device)], \n",
        "    textures=textures\n",
        ")"
      ]
    },
    {
      "cell_type": "markdown",
      "metadata": {
        "id": "mgtGbQktrQdh"
      },
      "source": [
        "\n",
        "\n",
        "## 2. Optimization setup"
      ]
    },
    {
      "cell_type": "markdown",
      "metadata": {
        "id": "Q6PzKD_NrQdi"
      },
      "source": [
        "### Create a renderer\n",
        "\n",
        "A **renderer** in PyTorch3D is composed of a **rasterizer** and a **shader** which each have a number of subcomponents such as a **camera** (orthographic/perspective). Here we initialize some of these components and use default values for the rest. \n",
        "\n",
        "For optimizing the camera position we will use a renderer which produces a **silhouette** of the object only and does not apply any **lighting** or **shading**. We will also initialize another renderer which applies full **Phong shading** and use this for visualizing the outputs. "
      ]
    },
    {
      "cell_type": "code",
      "execution_count": null,
      "metadata": {
        "id": "KPlby75GrQdj"
      },
      "outputs": [],
      "source": [
        "# Initialize a perspective camera.\n",
        "cameras = FoVPerspectiveCameras(device=device)\n",
        "\n",
        "# To blend the 100 faces we set a few parameters which control the opacity and the sharpness of \n",
        "# edges. Refer to blending.py for more details. \n",
        "blend_params = BlendParams(sigma=1e-4, gamma=1e-4)\n",
        "\n",
        "# Define the settings for rasterization and shading. Here we set the output image to be of size\n",
        "# 256x256. To form the blended image we use 100 faces for each pixel. We also set bin_size and max_faces_per_bin to None which ensure that \n",
        "# the faster coarse-to-fine rasterization method is used. Refer to rasterize_meshes.py for \n",
        "# explanations of these parameters. Refer to docs/notes/renderer.md for an explanation of \n",
        "# the difference between naive and coarse-to-fine rasterization. \n",
        "raster_settings = RasterizationSettings(\n",
        "    image_size=256, \n",
        "    blur_radius=np.log(1. / 1e-4 - 1.) * blend_params.sigma, \n",
        "    faces_per_pixel=100, \n",
        ")\n",
        "\n",
        "# Create a silhouette mesh renderer by composing a rasterizer and a shader. \n",
        "silhouette_renderer = MeshRenderer(\n",
        "    rasterizer=MeshRasterizer(\n",
        "        cameras=cameras, \n",
        "        raster_settings=raster_settings\n",
        "    ),\n",
        "    shader=SoftSilhouetteShader(blend_params=blend_params)\n",
        ")\n",
        "\n",
        "\n",
        "# We will also create a Phong renderer. This is simpler and only needs to render one face per pixel.\n",
        "raster_settings = RasterizationSettings(\n",
        "    image_size=256, \n",
        "    blur_radius=0.0, \n",
        "    faces_per_pixel=1, \n",
        ")\n",
        "# We can add a point light in front of the object. \n",
        "lights = PointLights(device=device, location=((2.0, 2.0, -2.0),))\n",
        "phong_renderer = MeshRenderer(\n",
        "    rasterizer=MeshRasterizer(\n",
        "        cameras=cameras, \n",
        "        raster_settings=raster_settings\n",
        "    ),\n",
        "    shader=HardPhongShader(device=device, cameras=cameras, lights=lights)\n",
        ")"
      ]
    },
    {
      "cell_type": "markdown",
      "metadata": {
        "id": "osOy2OIJrQdn"
      },
      "source": [
        "### Create a reference image\n",
        "\n",
        "We will first position the teapot and generate an image. We use helper functions to rotate the teapot to a desired viewpoint. Then we can use the renderers to produce an image. Here we will use both renderers and visualize the silhouette and full shaded image. \n",
        "\n",
        "The world coordinate system is defined as +Y up, +X left and +Z in. The teapot in world coordinates has the spout pointing to the left. \n",
        "\n",
        "We defined a camera which is positioned on the positive z axis hence sees the spout to the right. "
      ]
    },
    {
      "cell_type": "code",
      "execution_count": null,
      "metadata": {
        "colab": {
          "base_uri": "https://localhost:8080/",
          "height": 305
        },
        "id": "EjJrW7qerQdo",
        "outputId": "708b06fe-2aef-49d5-eec7-70639c16c050"
      },
      "outputs": [
        {
          "output_type": "display_data",
          "data": {
            "text/plain": [
              "<Figure size 720x720 with 2 Axes>"
            ],
            "image/png": "[encoded data removed]"
          },
          "metadata": {
            "needs_background": "light"
          }
        }
      ],
      "source": [
        "# Select the viewpoint using spherical angles  \n",
        "distance = 300  # distance from camera to the object\n",
        "elevation = 10.0   # angle of elevation in degrees\n",
        "azimuth = 20.0  # No rotation so the camera is positioned on the +Z axis. \n",
        "\n",
        "# Get the position of the camera based on the spherical angles\n",
        "R, T = look_at_view_transform(distance, elevation, azimuth, device=device)\n",
        "\n",
        "# Render the teapot providing the values of R and T. \n",
        "silhouette = silhouette_renderer(meshes_world=mesh, R=R, T=T)\n",
        "image_ref = phong_renderer(meshes_world=mesh, R=R, T=T)\n",
        "\n",
        "silhouette = silhouette.cpu().numpy()\n",
        "image_ref = image_ref.cpu().numpy()\n",
        "\n",
        "plt.figure(figsize=(10, 10))\n",
        "plt.subplot(1, 2, 1)\n",
        "plt.imshow(silhouette.squeeze()[..., 3])  # only plot the alpha channel of the RGBA image\n",
        "plt.grid(False)\n",
        "plt.subplot(1, 2, 2)\n",
        "plt.imshow(image_ref.squeeze())\n",
        "plt.grid(False)"
      ]
    },
    {
      "cell_type": "markdown",
      "metadata": {
        "id": "plBJwEslrQdt"
      },
      "source": [
        "### Set up a basic model \n",
        "\n",
        "Here we create a simple model class and initialize a parameter for the camera position. "
      ]
    },
    {
      "cell_type": "code",
      "execution_count": null,
      "metadata": {
        "id": "YBbP1-EDrQdu"
      },
      "outputs": [],
      "source": [
        "class Model(nn.Module):\n",
        "    def __init__(self, meshes, renderer, image_ref):\n",
        "        super().__init__()\n",
        "        self.meshes = meshes\n",
        "        self.device = meshes.device\n",
        "        self.renderer = renderer\n",
        "        \n",
        "        # Get the silhouette of the reference RGB image by finding all non-white pixel values. \n",
        "        image_ref = torch.from_numpy((image_ref[..., :3].max(-1) != 1).astype(np.float32))\n",
        "        self.register_buffer('image_ref', image_ref)\n",
        "        \n",
        "        # Create an optimizable parameter for the x, y, z position of the camera. \n",
        "        self.camera_position = nn.Parameter(\n",
        "            torch.from_numpy(np.array([300.0,  15.0, +5], dtype=np.float32)).to(meshes.device))\n",
        "\n",
        "    def forward(self):\n",
        "        \n",
        "        # Render the image using the updated camera position. Based on the new position of the \n",
        "        # camera we calculate the rotation and translation matrices\n",
        "        R = look_at_rotation(self.camera_position[None, :], device=self.device)  # (1, 3, 3)\n",
        "        T = -torch.bmm(R.transpose(1, 2), self.camera_position[None, :, None])[:, :, 0]   # (1, 3)\n",
        "        \n",
        "        image = self.renderer(meshes_world=self.meshes.clone(), R=R, T=T)\n",
        "        \n",
        "        # Calculate the silhouette loss\n",
        "        loss = torch.sum((image[..., 3] - self.image_ref) ** 2)\n",
        "        return loss, image\n",
        "  "
      ]
    },
    {
      "cell_type": "markdown",
      "metadata": {
        "id": "qCGLSJtfrQdy"
      },
      "source": [
        "## 3. Initialize the model and optimizer"
      ]
    },
    {
      "cell_type": "markdown",
      "metadata": {
        "id": "dvTLnrWorQd2"
      },
      "source": [
        "### Visualize the starting position and the reference position"
      ]
    },
    {
      "cell_type": "code",
      "execution_count": null,
      "metadata": {
        "colab": {
          "base_uri": "https://localhost:8080/",
          "height": 318
        },
        "id": "qyRXpP3mrQd3",
        "outputId": "1170f79e-1cdd-45e9-d5f8-02460f3f4cf1"
      },
      "outputs": [
        {
          "output_type": "display_data",
          "data": {
            "text/plain": [
              "<Figure size 720x720 with 2 Axes>"
            ],
            "image/png": "[encoded data removed]"
          },
          "metadata": {
            "needs_background": "light"
          }
        }
      ],
      "source": [
        "plt.figure(figsize=(10, 10))\n",
        "\n",
        "_, image_init = model()\n",
        "plt.subplot(1, 2, 1)\n",
        "plt.imshow(image_init.detach().squeeze().cpu().numpy()[..., 3])\n",
        "plt.grid(False)\n",
        "plt.title(\"Starting position\")\n",
        "\n",
        "plt.subplot(1, 2, 2)\n",
        "plt.imshow(model.image_ref.cpu().numpy().squeeze())\n",
        "plt.grid(False)\n",
        "plt.title(\"Reference silhouette\");\n"
      ]
    },
    {
      "cell_type": "markdown",
      "metadata": {
        "id": "aGJu7h-lrQd5"
      },
      "source": [
        "## 4. Run the optimization \n",
        "\n",
        "We run several iterations of the forward and backward pass and save outputs every 10 iterations. When this has finished take a look at `./teapot_optimization_demo.gif` for a cool gif of the optimization process!"
      ]
    },
    {
      "cell_type": "markdown",
      "source": [
        "\n",
        "Now we can create an instance of the **model** above and set up an **optimizer** for the camera position parameter. "
      ],
      "metadata": {
        "id": "QJUfQyo0Nn_i"
      }
    },
    {
      "cell_type": "code",
      "source": [
        "# We will save images periodically and compose them into a GIF.\n",
        "filename_output = \"./truck_optimization_demo.gif\"\n",
        "writer = imageio.get_writer(filename_output, mode='I', duration=0.3)\n",
        "\n",
        "# Initialize a model using the renderer, mesh and reference image\n",
        "model = Model(meshes=mesh, renderer=silhouette_renderer, image_ref=image_ref).to(device)\n",
        "\n",
        "# Create an optimizer. Here we are using Adam and we pass in the parameters of the model\n",
        "optimizer = torch.optim.Adam(model.parameters(), lr=0.1)"
      ],
      "metadata": {
        "id": "yc1xgBj1NiNt"
      },
      "execution_count": null,
      "outputs": []
    },
    {
      "cell_type": "code",
      "execution_count": null,
      "metadata": {
        "colab": {
          "base_uri": "https://localhost:8080/",
          "height": 1000,
          "referenced_widgets": [
            "52966e27ea324135a9e49d27e6b725ae",
            "27c9b22e135a4e32ad213fafb087e743",
            "4b3916d43b2047628e830bfc1328cc60",
            "06bebb73a1a14adeb4d47a8bf07d8a22",
            "8b218c177abc4768bc74fd5978932327",
            "9cf47014fd954a8396f196bee3c8d61f",
            "945f413c5cc04a5296dada2746cab2e7",
            "fb607466b8cb4a169098f88b76b471db",
            "f99cce707d584308b4f607f6a91b597c",
            "847f7820cc8748a8bf86a930283f6233",
            "08389bbf669f4be29cb0a32ffb758756"
          ]
        },
        "id": "HvnK5VI5rQd6",
        "outputId": "32d97fb5-88a8-4e7b-a878-8e87bd2ab8ef"
      },
      "outputs": [
        {
          "output_type": "display_data",
          "data": {
            "text/plain": [
              "  0%|          | 0/2000 [00:00<?, ?it/s]"
            ],
            "application/vnd.jupyter.widget-view+json": {
              "version_major": 2,
              "version_minor": 0,
              "model_id": "52966e27ea324135a9e49d27e6b725ae"
            }
          },
          "metadata": {}
        },
        {
          "output_type": "display_data",
          "data": {
            "text/plain": [
              "<Figure size 432x288 with 1 Axes>"
            ],
            "image/png": "[encoded data removed]"
          },
          "metadata": {
            "needs_background": "light"
          }
        },
        {
          "output_type": "display_data",
          "data": {
            "text/plain": [
              "<Figure size 432x288 with 1 Axes>"
            ],
            "image/png": "[encoded data removed]"
          },
          "metadata": {
            "needs_background": "light"
          }
        },
        {
          "output_type": "display_data",
          "data": {
            "text/plain": [
              "<Figure size 432x288 with 1 Axes>"
            ],
            "image/png": "[encoded data removed]"
          },
          "metadata": {
            "needs_background": "light"
          }
        },
        {
          "output_type": "display_data",
          "data": {
            "text/plain": [
              "<Figure size 432x288 with 1 Axes>"
            ],
            "image/png": "[encoded data removed]"
          },
          "metadata": {
            "needs_background": "light"
          }
        },
        {
          "output_type": "display_data",
          "data": {
            "text/plain": [
              "<Figure size 432x288 with 1 Axes>"
            ],
            "image/png": "[encoded data removed]"
          },
          "metadata": {
            "needs_background": "light"
          }
        },
        {
          "output_type": "display_data",
          "data": {
            "text/plain": [
              "<Figure size 432x288 with 1 Axes>"
            ],
            "image/png": "[encoded data removed]"
          },
          "metadata": {
            "needs_background": "light"
          }
        },
        {
          "output_type": "display_data",
          "data": {
            "text/plain": [
              "<Figure size 432x288 with 1 Axes>"
            ],
            "image/png": "[encoded data removed]"
          },
          "metadata": {
            "needs_background": "light"
          }
        },
        {
          "output_type": "display_data",
          "data": {
            "text/plain": [
              "<Figure size 432x288 with 1 Axes>"
            ],
            "image/png": "[encoded data removed]"
          },
          "metadata": {
            "needs_background": "light"
          }
        },
        {
          "output_type": "display_data",
          "data": {
            "text/plain": [
              "<Figure size 432x288 with 1 Axes>"
            ],
            "image/png": "[encoded data removed]"
          },
          "metadata": {
            "needs_background": "light"
          }
        },
        {
          "output_type": "display_data",
          "data": {
            "text/plain": [
              "<Figure size 432x288 with 1 Axes>"
            ],
            "image/png": "[encoded data removed]"
          },
          "metadata": {
            "needs_background": "light"
          }
        },
        {
          "output_type": "display_data",
          "data": {
            "text/plain": [
              "<Figure size 432x288 with 1 Axes>"
            ],
            "image/png": "[encoded data removed]"
          },
          "metadata": {
            "needs_background": "light"
          }
        },
        {
          "output_type": "display_data",
          "data": {
            "text/plain": [
              "<Figure size 432x288 with 1 Axes>"
            ],
            "image/png": "[encoded data removed]"
          },
          "metadata": {
            "needs_background": "light"
          }
        },
        {
          "output_type": "display_data",
          "data": {
            "text/plain": [
              "<Figure size 432x288 with 1 Axes>"
            ],
            "image/png": "[encoded data removed]"
          },
          "metadata": {
            "needs_background": "light"
          }
        },
        {
          "output_type": "display_data",
          "data": {
            "text/plain": [
              "<Figure size 432x288 with 1 Axes>"
            ],
            "image/png": "[encoded data removed]"
          },
          "metadata": {
            "needs_background": "light"
          }
        },
        {
          "output_type": "display_data",
          "data": {
            "text/plain": [
              "<Figure size 432x288 with 1 Axes>"
            ],
            "image/png": "[encoded data removed]"
          },
          "metadata": {
            "needs_background": "light"
          }
        },
        {
          "output_type": "display_data",
          "data": {
            "text/plain": [
              "<Figure size 432x288 with 1 Axes>"
            ],
            "image/png": "[encoded data removed]"
          },
          "metadata": {
            "needs_background": "light"
          }
        },
        {
          "output_type": "display_data",
          "data": {
            "text/plain": [
              "<Figure size 432x288 with 1 Axes>"
            ],
            "image/png": "[encoded data removed]"
          },
          "metadata": {
            "needs_background": "light"
          }
        },
        {
          "output_type": "display_data",
          "data": {
            "text/plain": [
              "<Figure size 432x288 with 1 Axes>"
            ],
            "image/png": "[encoded data removed]"
          },
          "metadata": {
            "needs_background": "light"
          }
        },
        {
          "output_type": "display_data",
          "data": {
            "text/plain": [
              "<Figure size 432x288 with 1 Axes>"
            ],
            "image/png": "[encoded data removed]"
          },
          "metadata": {
            "needs_background": "light"
          }
        },
        {
          "output_type": "display_data",
          "data": {
            "text/plain": [
              "<Figure size 432x288 with 1 Axes>"
            ],
            "image/png": "[encoded data removed]"
          },
          "metadata": {
            "needs_background": "light"
          }
        }
      ],
      "source": [
        "nsteps = 2000\n",
        "nout_steps = 100\n",
        "loop = tqdm(range(nsteps))\n",
        "for i in loop:\n",
        "    optimizer.zero_grad()\n",
        "    loss, _ = model()\n",
        "    loss.backward()\n",
        "    optimizer.step()\n",
        "    \n",
        "    loop.set_description('Optimizing (loss %.4f)' % loss.data)\n",
        "    \n",
        "    if loss.item() < nsteps:\n",
        "        break\n",
        "    \n",
        "    # Save outputs to create a GIF. \n",
        "    if i % nout_steps == 0:\n",
        "        R = look_at_rotation(model.camera_position[None, :], device=model.device)\n",
        "        T = -torch.bmm(R.transpose(1, 2), model.camera_position[None, :, None])[:, :, 0]   # (1, 3)\n",
        "        image = phong_renderer(meshes_world=model.meshes.clone(), R=R, T=T)\n",
        "        image = image[0, ..., :3].detach().squeeze().cpu().numpy()\n",
        "        image = img_as_ubyte(image)\n",
        "        writer.append_data(image)\n",
        "        \n",
        "        plt.figure()\n",
        "        plt.imshow(image[..., :3])\n",
        "        plt.title(\"iter: %d, loss: %0.2f\" % (i, loss.data))\n",
        "        plt.axis(\"off\")\n",
        "    \n",
        "writer.close()"
      ]
    },
    {
      "cell_type": "markdown",
      "metadata": {
        "id": "mWj80P_SsPTN"
      },
      "source": [
        "## 5. Conclusion \n",
        "\n",
        "In this tutorial we learnt how to **load** a mesh from an obj file, initialize a PyTorch3D datastructure called **Meshes**, set up an **Renderer** consisting of a **Rasterizer** and a **Shader**, set up an optimization loop including a **Model** and a **loss function**, and run  the optimization. "
      ]
    }
  ],
  "metadata": {
    "accelerator": "GPU",
    "anp_metadata": {
      "path": "fbsource/fbcode/vision/fair/pytorch3d/docs/tutorials/camera_position_optimization_with_differentiable_rendering.ipynb"
    },
    "bento_stylesheets": {
      "bento/extensions/flow/main.css": true,
      "bento/extensions/kernel_selector/main.css": true,
      "bento/extensions/kernel_ui/main.css": true,
      "bento/extensions/new_kernel/main.css": true,
      "bento/extensions/system_usage/main.css": true,
      "bento/extensions/theme/main.css": true
    },
    "colab": {
      "provenance": []
    },
    "disseminate_notebook_info": {
      "backup_notebook_id": "1062179640844868"
    },
    "kernelspec": {
      "display_name": "pytorch3d (local)",
      "language": "python",
      "name": "pytorch3d_local"
    },
    "language_info": {
      "codemirror_mode": {
        "name": "ipython",
        "version": 3
      },
      "file_extension": ".py",
      "mimetype": "text/x-python",
      "name": "python",
      "nbconvert_exporter": "python",
      "pygments_lexer": "ipython3",
      "version": "3.7.5+"
    },
    "widgets": {
      "application/vnd.jupyter.widget-state+json": {
        "52966e27ea324135a9e49d27e6b725ae": {
          "model_module": "@jupyter-widgets/controls",
          "model_name": "HBoxModel",
          "model_module_version": "1.5.0",
          "state": {
            "_dom_classes": [],
            "_model_module": "@jupyter-widgets/controls",
            "_model_module_version": "1.5.0",
            "_model_name": "HBoxModel",
            "_view_count": null,
            "_view_module": "@jupyter-widgets/controls",
            "_view_module_version": "1.5.0",
            "_view_name": "HBoxView",
            "box_style": "",
            "children": [
              "IPY_MODEL_27c9b22e135a4e32ad213fafb087e743",
              "IPY_MODEL_4b3916d43b2047628e830bfc1328cc60",
              "IPY_MODEL_06bebb73a1a14adeb4d47a8bf07d8a22"
            ],
            "layout": "IPY_MODEL_8b218c177abc4768bc74fd5978932327"
          }
        },
        "27c9b22e135a4e32ad213fafb087e743": {
          "model_module": "@jupyter-widgets/controls",
          "model_name": "HTMLModel",
          "model_module_version": "1.5.0",
          "state": {
            "_dom_classes": [],
            "_model_module": "@jupyter-widgets/controls",
            "_model_module_version": "1.5.0",
            "_model_name": "HTMLModel",
            "_view_count": null,
            "_view_module": "@jupyter-widgets/controls",
            "_view_module_version": "1.5.0",
            "_view_name": "HTMLView",
            "description": "",
            "description_tooltip": null,
            "layout": "IPY_MODEL_9cf47014fd954a8396f196bee3c8d61f",
            "placeholder": "​",
            "style": "IPY_MODEL_945f413c5cc04a5296dada2746cab2e7",
            "value": "Optimizing (loss 2349.8267): 100%"
          }
        },
        "4b3916d43b2047628e830bfc1328cc60": {
          "model_module": "@jupyter-widgets/controls",
          "model_name": "FloatProgressModel",
          "model_module_version": "1.5.0",
          "state": {
            "_dom_classes": [],
            "_model_module": "@jupyter-widgets/controls",
            "_model_module_version": "1.5.0",
            "_model_name": "FloatProgressModel",
            "_view_count": null,
            "_view_module": "@jupyter-widgets/controls",
            "_view_module_version": "1.5.0",
            "_view_name": "ProgressView",
            "bar_style": "success",
            "description": "",
            "description_tooltip": null,
            "layout": "IPY_MODEL_fb607466b8cb4a169098f88b76b471db",
            "max": 2000,
            "min": 0,
            "orientation": "horizontal",
            "style": "IPY_MODEL_f99cce707d584308b4f607f6a91b597c",
            "value": 2000
          }
        },
        "06bebb73a1a14adeb4d47a8bf07d8a22": {
          "model_module": "@jupyter-widgets/controls",
          "model_name": "HTMLModel",
          "model_module_version": "1.5.0",
          "state": {
            "_dom_classes": [],
            "_model_module": "@jupyter-widgets/controls",
            "_model_module_version": "1.5.0",
            "_model_name": "HTMLModel",
            "_view_count": null,
            "_view_module": "@jupyter-widgets/controls",
            "_view_module_version": "1.5.0",
            "_view_name": "HTMLView",
            "description": "",
            "description_tooltip": null,
            "layout": "IPY_MODEL_847f7820cc8748a8bf86a930283f6233",
            "placeholder": "​",
            "style": "IPY_MODEL_08389bbf669f4be29cb0a32ffb758756",
            "value": " 2000/2000 [00:30&lt;00:00, 66.22it/s]"
          }
        },
        "8b218c177abc4768bc74fd5978932327": {
          "model_module": "@jupyter-widgets/base",
          "model_name": "LayoutModel",
          "model_module_version": "1.2.0",
          "state": {
            "_model_module": "@jupyter-widgets/base",
            "_model_module_version": "1.2.0",
            "_model_name": "LayoutModel",
            "_view_count": null,
            "_view_module": "@jupyter-widgets/base",
            "_view_module_version": "1.2.0",
            "_view_name": "LayoutView",
            "align_content": null,
            "align_items": null,
            "align_self": null,
            "border": null,
            "bottom": null,
            "display": null,
            "flex": null,
            "flex_flow": null,
            "grid_area": null,
            "grid_auto_columns": null,
            "grid_auto_flow": null,
            "grid_auto_rows": null,
            "grid_column": null,
            "grid_gap": null,
            "grid_row": null,
            "grid_template_areas": null,
            "grid_template_columns": null,
            "grid_template_rows": null,
            "height": null,
            "justify_content": null,
            "justify_items": null,
            "left": null,
            "margin": null,
            "max_height": null,
            "max_width": null,
            "min_height": null,
            "min_width": null,
            "object_fit": null,
            "object_position": null,
            "order": null,
            "overflow": null,
            "overflow_x": null,
            "overflow_y": null,
            "padding": null,
            "right": null,
            "top": null,
            "visibility": null,
            "width": null
          }
        },
        "9cf47014fd954a8396f196bee3c8d61f": {
          "model_module": "@jupyter-widgets/base",
          "model_name": "LayoutModel",
          "model_module_version": "1.2.0",
          "state": {
            "_model_module": "@jupyter-widgets/base",
            "_model_module_version": "1.2.0",
            "_model_name": "LayoutModel",
            "_view_count": null,
            "_view_module": "@jupyter-widgets/base",
            "_view_module_version": "1.2.0",
            "_view_name": "LayoutView",
            "align_content": null,
            "align_items": null,
            "align_self": null,
            "border": null,
            "bottom": null,
            "display": null,
            "flex": null,
            "flex_flow": null,
            "grid_area": null,
            "grid_auto_columns": null,
            "grid_auto_flow": null,
            "grid_auto_rows": null,
            "grid_column": null,
            "grid_gap": null,
            "grid_row": null,
            "grid_template_areas": null,
            "grid_template_columns": null,
            "grid_template_rows": null,
            "height": null,
            "justify_content": null,
            "justify_items": null,
            "left": null,
            "margin": null,
            "max_height": null,
            "max_width": null,
            "min_height": null,
            "min_width": null,
            "object_fit": null,
            "object_position": null,
            "order": null,
            "overflow": null,
            "overflow_x": null,
            "overflow_y": null,
            "padding": null,
            "right": null,
            "top": null,
            "visibility": null,
            "width": null
          }
        },
        "945f413c5cc04a5296dada2746cab2e7": {
          "model_module": "@jupyter-widgets/controls",
          "model_name": "DescriptionStyleModel",
          "model_module_version": "1.5.0",
          "state": {
            "_model_module": "@jupyter-widgets/controls",
            "_model_module_version": "1.5.0",
            "_model_name": "DescriptionStyleModel",
            "_view_count": null,
            "_view_module": "@jupyter-widgets/base",
            "_view_module_version": "1.2.0",
            "_view_name": "StyleView",
            "description_width": ""
          }
        },
        "fb607466b8cb4a169098f88b76b471db": {
          "model_module": "@jupyter-widgets/base",
          "model_name": "LayoutModel",
          "model_module_version": "1.2.0",
          "state": {
            "_model_module": "@jupyter-widgets/base",
            "_model_module_version": "1.2.0",
            "_model_name": "LayoutModel",
            "_view_count": null,
            "_view_module": "@jupyter-widgets/base",
            "_view_module_version": "1.2.0",
            "_view_name": "LayoutView",
            "align_content": null,
            "align_items": null,
            "align_self": null,
            "border": null,
            "bottom": null,
            "display": null,
            "flex": null,
            "flex_flow": null,
            "grid_area": null,
            "grid_auto_columns": null,
            "grid_auto_flow": null,
            "grid_auto_rows": null,
            "grid_column": null,
            "grid_gap": null,
            "grid_row": null,
            "grid_template_areas": null,
            "grid_template_columns": null,
            "grid_template_rows": null,
            "height": null,
            "justify_content": null,
            "justify_items": null,
            "left": null,
            "margin": null,
            "max_height": null,
            "max_width": null,
            "min_height": null,
            "min_width": null,
            "object_fit": null,
            "object_position": null,
            "order": null,
            "overflow": null,
            "overflow_x": null,
            "overflow_y": null,
            "padding": null,
            "right": null,
            "top": null,
            "visibility": null,
            "width": null
          }
        },
        "f99cce707d584308b4f607f6a91b597c": {
          "model_module": "@jupyter-widgets/controls",
          "model_name": "ProgressStyleModel",
          "model_module_version": "1.5.0",
          "state": {
            "_model_module": "@jupyter-widgets/controls",
            "_model_module_version": "1.5.0",
            "_model_name": "ProgressStyleModel",
            "_view_count": null,
            "_view_module": "@jupyter-widgets/base",
            "_view_module_version": "1.2.0",
            "_view_name": "StyleView",
            "bar_color": null,
            "description_width": ""
          }
        },
        "847f7820cc8748a8bf86a930283f6233": {
          "model_module": "@jupyter-widgets/base",
          "model_name": "LayoutModel",
          "model_module_version": "1.2.0",
          "state": {
            "_model_module": "@jupyter-widgets/base",
            "_model_module_version": "1.2.0",
            "_model_name": "LayoutModel",
            "_view_count": null,
            "_view_module": "@jupyter-widgets/base",
            "_view_module_version": "1.2.0",
            "_view_name": "LayoutView",
            "align_content": null,
            "align_items": null,
            "align_self": null,
            "border": null,
            "bottom": null,
            "display": null,
            "flex": null,
            "flex_flow": null,
            "grid_area": null,
            "grid_auto_columns": null,
            "grid_auto_flow": null,
            "grid_auto_rows": null,
            "grid_column": null,
            "grid_gap": null,
            "grid_row": null,
            "grid_template_areas": null,
            "grid_template_columns": null,
            "grid_template_rows": null,
            "height": null,
            "justify_content": null,
            "justify_items": null,
            "left": null,
            "margin": null,
            "max_height": null,
            "max_width": null,
            "min_height": null,
            "min_width": null,
            "object_fit": null,
            "object_position": null,
            "order": null,
            "overflow": null,
            "overflow_x": null,
            "overflow_y": null,
            "padding": null,
            "right": null,
            "top": null,
            "visibility": null,
            "width": null
          }
        },
        "08389bbf669f4be29cb0a32ffb758756": {
          "model_module": "@jupyter-widgets/controls",
          "model_name": "DescriptionStyleModel",
          "model_module_version": "1.5.0",
          "state": {
            "_model_module": "@jupyter-widgets/controls",
            "_model_module_version": "1.5.0",
            "_model_name": "DescriptionStyleModel",
            "_view_count": null,
            "_view_module": "@jupyter-widgets/base",
            "_view_module_version": "1.2.0",
            "_view_name": "StyleView",
            "description_width": ""
          }
        }
      }
    }
  },
  "nbformat": 4,
  "nbformat_minor": 0
}